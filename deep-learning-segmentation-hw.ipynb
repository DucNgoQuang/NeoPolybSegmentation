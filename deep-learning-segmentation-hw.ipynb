{
 "cells": [
  {
   "cell_type": "markdown",
   "id": "63ac145a",
   "metadata": {
    "papermill": {
     "duration": 0.006699,
     "end_time": "2024-11-25T07:18:03.871875",
     "exception": false,
     "start_time": "2024-11-25T07:18:03.865176",
     "status": "completed"
    },
    "tags": []
   },
   "source": [
    "# Library"
   ]
  },
  {
   "cell_type": "code",
   "execution_count": 1,
   "id": "ec630961",
   "metadata": {
    "execution": {
     "iopub.execute_input": "2024-11-25T07:18:03.886227Z",
     "iopub.status.busy": "2024-11-25T07:18:03.885962Z",
     "iopub.status.idle": "2024-11-25T07:18:18.390107Z",
     "shell.execute_reply": "2024-11-25T07:18:18.389019Z"
    },
    "papermill": {
     "duration": 14.5135,
     "end_time": "2024-11-25T07:18:18.392424",
     "exception": false,
     "start_time": "2024-11-25T07:18:03.878924",
     "status": "completed"
    },
    "tags": []
   },
   "outputs": [
    {
     "name": "stdout",
     "output_type": "stream",
     "text": [
      "Collecting torchsummary\r\n",
      "  Downloading torchsummary-1.5.1-py3-none-any.whl.metadata (296 bytes)\r\n",
      "Requirement already satisfied: wandb in /opt/conda/lib/python3.10/site-packages (0.18.3)\r\n",
      "Collecting segmentation_models_pytorch\r\n",
      "  Downloading segmentation_models_pytorch-0.3.4-py3-none-any.whl.metadata (30 kB)\r\n",
      "Requirement already satisfied: click!=8.0.0,>=7.1 in /opt/conda/lib/python3.10/site-packages (from wandb) (8.1.7)\r\n",
      "Requirement already satisfied: docker-pycreds>=0.4.0 in /opt/conda/lib/python3.10/site-packages (from wandb) (0.4.0)\r\n",
      "Requirement already satisfied: gitpython!=3.1.29,>=1.0.0 in /opt/conda/lib/python3.10/site-packages (from wandb) (3.1.43)\r\n",
      "Requirement already satisfied: platformdirs in /opt/conda/lib/python3.10/site-packages (from wandb) (3.11.0)\r\n",
      "Requirement already satisfied: protobuf!=4.21.0,!=5.28.0,<6,>=3.19.0 in /opt/conda/lib/python3.10/site-packages (from wandb) (3.20.3)\r\n",
      "Requirement already satisfied: psutil>=5.0.0 in /opt/conda/lib/python3.10/site-packages (from wandb) (5.9.3)\r\n",
      "Requirement already satisfied: pyyaml in /opt/conda/lib/python3.10/site-packages (from wandb) (6.0.2)\r\n",
      "Requirement already satisfied: requests<3,>=2.0.0 in /opt/conda/lib/python3.10/site-packages (from wandb) (2.32.3)\r\n",
      "Requirement already satisfied: sentry-sdk>=1.0.0 in /opt/conda/lib/python3.10/site-packages (from wandb) (2.15.0)\r\n",
      "Requirement already satisfied: setproctitle in /opt/conda/lib/python3.10/site-packages (from wandb) (1.3.3)\r\n",
      "Requirement already satisfied: setuptools in /opt/conda/lib/python3.10/site-packages (from wandb) (70.0.0)\r\n",
      "Collecting efficientnet-pytorch==0.7.1 (from segmentation_models_pytorch)\r\n",
      "  Downloading efficientnet_pytorch-0.7.1.tar.gz (21 kB)\r\n",
      "  Preparing metadata (setup.py) ... \u001b[?25l-\b \bdone\r\n",
      "\u001b[?25hRequirement already satisfied: huggingface-hub>=0.24.6 in /opt/conda/lib/python3.10/site-packages (from segmentation_models_pytorch) (0.25.1)\r\n",
      "Requirement already satisfied: pillow in /opt/conda/lib/python3.10/site-packages (from segmentation_models_pytorch) (10.3.0)\r\n",
      "Collecting pretrainedmodels==0.7.4 (from segmentation_models_pytorch)\r\n",
      "  Downloading pretrainedmodels-0.7.4.tar.gz (58 kB)\r\n",
      "\u001b[2K     \u001b[90m━━━━━━━━━━━━━━━━━━━━━━━━━━━━━━━━━━━━━━━━\u001b[0m \u001b[32m58.8/58.8 kB\u001b[0m \u001b[31m3.9 MB/s\u001b[0m eta \u001b[36m0:00:00\u001b[0m\r\n",
      "\u001b[?25h  Preparing metadata (setup.py) ... \u001b[?25l-\b \b\\\b \bdone\r\n",
      "\u001b[?25hRequirement already satisfied: six in /opt/conda/lib/python3.10/site-packages (from segmentation_models_pytorch) (1.16.0)\r\n",
      "Collecting timm==0.9.7 (from segmentation_models_pytorch)\r\n",
      "  Downloading timm-0.9.7-py3-none-any.whl.metadata (58 kB)\r\n",
      "\u001b[2K     \u001b[90m━━━━━━━━━━━━━━━━━━━━━━━━━━━━━━━━━━━━━━━━\u001b[0m \u001b[32m58.8/58.8 kB\u001b[0m \u001b[31m4.6 MB/s\u001b[0m eta \u001b[36m0:00:00\u001b[0m\r\n",
      "\u001b[?25hRequirement already satisfied: torchvision>=0.5.0 in /opt/conda/lib/python3.10/site-packages (from segmentation_models_pytorch) (0.19.0)\r\n",
      "Requirement already satisfied: tqdm in /opt/conda/lib/python3.10/site-packages (from segmentation_models_pytorch) (4.66.4)\r\n",
      "Requirement already satisfied: torch in /opt/conda/lib/python3.10/site-packages (from efficientnet-pytorch==0.7.1->segmentation_models_pytorch) (2.4.0)\r\n",
      "Collecting munch (from pretrainedmodels==0.7.4->segmentation_models_pytorch)\r\n",
      "  Downloading munch-4.0.0-py2.py3-none-any.whl.metadata (5.9 kB)\r\n",
      "Requirement already satisfied: safetensors in /opt/conda/lib/python3.10/site-packages (from timm==0.9.7->segmentation_models_pytorch) (0.4.5)\r\n",
      "Requirement already satisfied: gitdb<5,>=4.0.1 in /opt/conda/lib/python3.10/site-packages (from gitpython!=3.1.29,>=1.0.0->wandb) (4.0.11)\r\n",
      "Requirement already satisfied: filelock in /opt/conda/lib/python3.10/site-packages (from huggingface-hub>=0.24.6->segmentation_models_pytorch) (3.15.1)\r\n",
      "Requirement already satisfied: fsspec>=2023.5.0 in /opt/conda/lib/python3.10/site-packages (from huggingface-hub>=0.24.6->segmentation_models_pytorch) (2024.6.1)\r\n",
      "Requirement already satisfied: packaging>=20.9 in /opt/conda/lib/python3.10/site-packages (from huggingface-hub>=0.24.6->segmentation_models_pytorch) (21.3)\r\n",
      "Requirement already satisfied: typing-extensions>=3.7.4.3 in /opt/conda/lib/python3.10/site-packages (from huggingface-hub>=0.24.6->segmentation_models_pytorch) (4.12.2)\r\n",
      "Requirement already satisfied: charset-normalizer<4,>=2 in /opt/conda/lib/python3.10/site-packages (from requests<3,>=2.0.0->wandb) (3.3.2)\r\n",
      "Requirement already satisfied: idna<4,>=2.5 in /opt/conda/lib/python3.10/site-packages (from requests<3,>=2.0.0->wandb) (3.7)\r\n",
      "Requirement already satisfied: urllib3<3,>=1.21.1 in /opt/conda/lib/python3.10/site-packages (from requests<3,>=2.0.0->wandb) (1.26.18)\r\n",
      "Requirement already satisfied: certifi>=2017.4.17 in /opt/conda/lib/python3.10/site-packages (from requests<3,>=2.0.0->wandb) (2024.8.30)\r\n",
      "Requirement already satisfied: numpy in /opt/conda/lib/python3.10/site-packages (from torchvision>=0.5.0->segmentation_models_pytorch) (1.26.4)\r\n",
      "Requirement already satisfied: smmap<6,>=3.0.1 in /opt/conda/lib/python3.10/site-packages (from gitdb<5,>=4.0.1->gitpython!=3.1.29,>=1.0.0->wandb) (5.0.1)\r\n",
      "Requirement already satisfied: pyparsing!=3.0.5,>=2.0.2 in /opt/conda/lib/python3.10/site-packages (from packaging>=20.9->huggingface-hub>=0.24.6->segmentation_models_pytorch) (3.1.2)\r\n",
      "Requirement already satisfied: sympy in /opt/conda/lib/python3.10/site-packages (from torch->efficientnet-pytorch==0.7.1->segmentation_models_pytorch) (1.13.3)\r\n",
      "Requirement already satisfied: networkx in /opt/conda/lib/python3.10/site-packages (from torch->efficientnet-pytorch==0.7.1->segmentation_models_pytorch) (3.3)\r\n",
      "Requirement already satisfied: jinja2 in /opt/conda/lib/python3.10/site-packages (from torch->efficientnet-pytorch==0.7.1->segmentation_models_pytorch) (3.1.4)\r\n",
      "Requirement already satisfied: MarkupSafe>=2.0 in /opt/conda/lib/python3.10/site-packages (from jinja2->torch->efficientnet-pytorch==0.7.1->segmentation_models_pytorch) (2.1.5)\r\n",
      "Requirement already satisfied: mpmath<1.4,>=1.1.0 in /opt/conda/lib/python3.10/site-packages (from sympy->torch->efficientnet-pytorch==0.7.1->segmentation_models_pytorch) (1.3.0)\r\n",
      "Downloading torchsummary-1.5.1-py3-none-any.whl (2.8 kB)\r\n",
      "Downloading segmentation_models_pytorch-0.3.4-py3-none-any.whl (109 kB)\r\n",
      "\u001b[2K   \u001b[90m━━━━━━━━━━━━━━━━━━━━━━━━━━━━━━━━━━━━━━━━\u001b[0m \u001b[32m109.5/109.5 kB\u001b[0m \u001b[31m7.6 MB/s\u001b[0m eta \u001b[36m0:00:00\u001b[0m\r\n",
      "\u001b[?25hDownloading timm-0.9.7-py3-none-any.whl (2.2 MB)\r\n",
      "\u001b[2K   \u001b[90m━━━━━━━━━━━━━━━━━━━━━━━━━━━━━━━━━━━━━━━━\u001b[0m \u001b[32m2.2/2.2 MB\u001b[0m \u001b[31m43.6 MB/s\u001b[0m eta \u001b[36m0:00:00\u001b[0m\r\n",
      "\u001b[?25hDownloading munch-4.0.0-py2.py3-none-any.whl (9.9 kB)\r\n",
      "Building wheels for collected packages: efficientnet-pytorch, pretrainedmodels\r\n",
      "  Building wheel for efficientnet-pytorch (setup.py) ... \u001b[?25l-\b \bdone\r\n",
      "\u001b[?25h  Created wheel for efficientnet-pytorch: filename=efficientnet_pytorch-0.7.1-py3-none-any.whl size=16427 sha256=c95c731073d973e888c77545123012e2f6ff02f4cdd16b223a02f2af2513ed52\r\n",
      "  Stored in directory: /root/.cache/pip/wheels/03/3f/e9/911b1bc46869644912bda90a56bcf7b960f20b5187feea3baf\r\n",
      "  Building wheel for pretrainedmodels (setup.py) ... \u001b[?25l-\b \b\\\b \b|\b \bdone\r\n",
      "\u001b[?25h  Created wheel for pretrainedmodels: filename=pretrainedmodels-0.7.4-py3-none-any.whl size=60945 sha256=d8d35f8a867ac4c0fd441d9cc06ae283f62b6accd2bf75cbebba00f04fdf2b7c\r\n",
      "  Stored in directory: /root/.cache/pip/wheels/35/cb/a5/8f534c60142835bfc889f9a482e4a67e0b817032d9c6883b64\r\n",
      "Successfully built efficientnet-pytorch pretrainedmodels\r\n",
      "Installing collected packages: torchsummary, munch, efficientnet-pytorch, timm, pretrainedmodels, segmentation_models_pytorch\r\n",
      "  Attempting uninstall: timm\r\n",
      "    Found existing installation: timm 1.0.9\r\n",
      "    Uninstalling timm-1.0.9:\r\n",
      "      Successfully uninstalled timm-1.0.9\r\n",
      "Successfully installed efficientnet-pytorch-0.7.1 munch-4.0.0 pretrainedmodels-0.7.4 segmentation_models_pytorch-0.3.4 timm-0.9.7 torchsummary-1.5.1\r\n"
     ]
    }
   ],
   "source": [
    "!pip install torchsummary wandb segmentation_models_pytorch"
   ]
  },
  {
   "cell_type": "markdown",
   "id": "97ef92c2",
   "metadata": {
    "papermill": {
     "duration": 0.00777,
     "end_time": "2024-11-25T07:18:18.409572",
     "exception": false,
     "start_time": "2024-11-25T07:18:18.401802",
     "status": "completed"
    },
    "tags": []
   },
   "source": [
    "# Dataset preparation "
   ]
  },
  {
   "cell_type": "markdown",
   "id": "0ab891d9",
   "metadata": {
    "papermill": {
     "duration": 0.007298,
     "end_time": "2024-11-25T07:18:18.424451",
     "exception": false,
     "start_time": "2024-11-25T07:18:18.417153",
     "status": "completed"
    },
    "tags": []
   },
   "source": [
    "Augmentation including : rotation, flip, crop, resize, resample, normalization, elastic deformation"
   ]
  },
  {
   "cell_type": "code",
   "execution_count": 2,
   "id": "7d7815f7",
   "metadata": {
    "execution": {
     "iopub.execute_input": "2024-11-25T07:18:18.440773Z",
     "iopub.status.busy": "2024-11-25T07:18:18.440444Z",
     "iopub.status.idle": "2024-11-25T07:18:26.665525Z",
     "shell.execute_reply": "2024-11-25T07:18:26.664648Z"
    },
    "papermill": {
     "duration": 8.235491,
     "end_time": "2024-11-25T07:18:26.667450",
     "exception": false,
     "start_time": "2024-11-25T07:18:18.431959",
     "status": "completed"
    },
    "tags": []
   },
   "outputs": [
    {
     "name": "stderr",
     "output_type": "stream",
     "text": [
      "/opt/conda/lib/python3.10/site-packages/albumentations/__init__.py:13: UserWarning: A new version of Albumentations is available: 1.4.21 (you have 1.4.17). Upgrade using: pip install -U albumentations. To disable automatic update checks, set the environment variable NO_ALBUMENTATIONS_UPDATE to 1.\n",
      "  check_for_updates()\n"
     ]
    }
   ],
   "source": [
    "import numpy as np\n",
    "import segmentation_models_pytorch as smp\n",
    "import gc\n",
    "import time\n",
    "import wandb\n",
    "import pandas as pd\n",
    "import os\n",
    "import cv2\n",
    "import shutil\n",
    "import matplotlib.pyplot as plt\n",
    "from PIL import Image\n",
    "import random\n",
    "import tqdm\n",
    "import torch\n",
    "import torch.nn as nn\n",
    "import torch.optim as optim\n",
    "from torchinfo import summary\n",
    "import torch.nn.functional as F\n",
    "from torch import Tensor\n",
    "from torchvision import models \n",
    "import torchvision.transforms as transforms\n",
    "from torchvision.transforms import Resize, Compose, PILToTensor, InterpolationMode, ToPILImage\n",
    "from torchvision import models\n",
    "from torch.utils.data import Dataset, DataLoader, random_split, ConcatDataset\n",
    "from torch.optim import lr_scheduler\n",
    "import albumentations as A\n",
    "from albumentations.pytorch.transforms import ToTensorV2\n",
    "from torch.nn import init\n",
    "from PIL import Image"
   ]
  },
  {
   "cell_type": "code",
   "execution_count": 4,
   "id": "e4e56cd3",
   "metadata": {
    "execution": {
     "iopub.execute_input": "2024-11-25T07:18:26.711054Z",
     "iopub.status.busy": "2024-11-25T07:18:26.710786Z",
     "iopub.status.idle": "2024-11-25T07:18:26.718659Z",
     "shell.execute_reply": "2024-11-25T07:18:26.717885Z"
    },
    "papermill": {
     "duration": 0.017943,
     "end_time": "2024-11-25T07:18:26.720333",
     "exception": false,
     "start_time": "2024-11-25T07:18:26.702390",
     "status": "completed"
    },
    "tags": []
   },
   "outputs": [],
   "source": [
    "class PolybDataset(Dataset):\n",
    "    def __init__(self,root_dir, mask_dir, transform = None):\n",
    "        self.root_dir = root_dir \n",
    "        self.mask_dir = mask_dir\n",
    "        self.transform = transform\n",
    "        self.data = []\n",
    "        for img in os.listdir(root_dir):\n",
    "            img_path = os.path.join(root_dir,img)\n",
    "            mask_path = os.path.join(mask_dir, img)\n",
    "            self.data.append((img_path,mask_path))\n",
    "\n",
    "    def __len__(self):\n",
    "        return len(self.data)\n",
    "    \n",
    "    def __getitem__(self,idx):\n",
    "        img_path, mask_path = self.data[idx]\n",
    "        img, mask = cv2.imread(img_path) , cv2.imread(mask_path)\n",
    "        img,mask  = cv2.cvtColor(img, cv2.COLOR_BGR2RGB) , cv2.cvtColor(mask, cv2.COLOR_BGR2RGB)\n",
    "\n",
    "        #Resize\n",
    "        img, mask = Image.fromarray(img) , Image.fromarray(mask)\n",
    "        resize = transforms.Resize(size=(256, 256), interpolation=transforms.InterpolationMode.BILINEAR)\n",
    "        to_tensor = transforms.PILToTensor()\n",
    "        mask = to_tensor(mask)\n",
    "        to_tensor = transforms.ToTensor()\n",
    "        img = to_tensor(img)\n",
    "        img = resize(img)\n",
    "        mask = resize(mask)\n",
    "    \n",
    "        #Preprocess mask\n",
    "        mask = mask / 255\n",
    "        mask = torch.where(mask>0.65, 1.0, 0.0)\n",
    "        mask[2, :, :] = 0.0001\n",
    "        mask = torch.argmax(mask, 0).type(torch.int64)\n",
    "        \n",
    "        if self.transform:\n",
    "            img = self.transform(img)\n",
    "            mask = self.transform(mask)\n",
    "        \n",
    "        # Normalize input img\n",
    "        normalize = transforms.Normalize(mean=(0.485, 0.456, 0.406), std=(0.229, 0.224, 0.225))\n",
    "        img = normalize(img)\n",
    "        \n",
    "        return img,mask"
   ]
  },
  {
   "cell_type": "code",
   "execution_count": 5,
   "id": "08f8b63f",
   "metadata": {
    "execution": {
     "iopub.execute_input": "2024-11-25T07:18:26.736647Z",
     "iopub.status.busy": "2024-11-25T07:18:26.736401Z",
     "iopub.status.idle": "2024-11-25T07:18:26.739887Z",
     "shell.execute_reply": "2024-11-25T07:18:26.739129Z"
    },
    "papermill": {
     "duration": 0.013418,
     "end_time": "2024-11-25T07:18:26.741453",
     "exception": false,
     "start_time": "2024-11-25T07:18:26.728035",
     "status": "completed"
    },
    "tags": []
   },
   "outputs": [],
   "source": [
    "train_dir = '/kaggle/input/bkai-igh-neopolyp/train/train'\n",
    "train_gt_dir = '/kaggle/input/bkai-igh-neopolyp/train_gt/train_gt'"
   ]
  },
  {
   "cell_type": "code",
   "execution_count": 6,
   "id": "ed575fd8",
   "metadata": {
    "execution": {
     "iopub.execute_input": "2024-11-25T07:18:26.758187Z",
     "iopub.status.busy": "2024-11-25T07:18:26.757469Z",
     "iopub.status.idle": "2024-11-25T07:18:26.762458Z",
     "shell.execute_reply": "2024-11-25T07:18:26.761882Z"
    },
    "papermill": {
     "duration": 0.0148,
     "end_time": "2024-11-25T07:18:26.763991",
     "exception": false,
     "start_time": "2024-11-25T07:18:26.749191",
     "status": "completed"
    },
    "tags": []
   },
   "outputs": [],
   "source": [
    "def visualize_segmentation(dataset):\n",
    "    random_sample_ids = random.sample(range(len(dataset)), k=4)\n",
    "    fig, ax = plt.subplots(4,2,figsize=(10, 10))\n",
    "    for i in range (4):\n",
    "        idx = random_sample_ids[i]\n",
    "        image, mask = dataset[idx]\n",
    "        image = image.permute(1, 2, 0).cpu().numpy()  \n",
    "      \n",
    "    \n",
    "        ax[i,0].imshow(image)\n",
    "        ax[i,0].set_title('Original Image')\n",
    "\n",
    "        \n",
    "        ax[i,1].imshow(mask)\n",
    "        ax[i,1].set_title(\"Grouth Truth\")\n",
    "        \n",
    "    plt.tight_layout()\n",
    "    plt.show()"
   ]
  },
  {
   "cell_type": "code",
   "execution_count": 7,
   "id": "c145d5e6",
   "metadata": {
    "execution": {
     "iopub.execute_input": "2024-11-25T07:18:26.780389Z",
     "iopub.status.busy": "2024-11-25T07:18:26.780176Z",
     "iopub.status.idle": "2024-11-25T07:18:26.901193Z",
     "shell.execute_reply": "2024-11-25T07:18:26.900575Z"
    },
    "papermill": {
     "duration": 0.130861,
     "end_time": "2024-11-25T07:18:26.902748",
     "exception": false,
     "start_time": "2024-11-25T07:18:26.771887",
     "status": "completed"
    },
    "tags": []
   },
   "outputs": [],
   "source": [
    "segmentation_dataset = PolybDataset(train_dir,train_gt_dir)"
   ]
  },
  {
   "cell_type": "code",
   "execution_count": 8,
   "id": "feb102f9",
   "metadata": {
    "execution": {
     "iopub.execute_input": "2024-11-25T07:18:26.919294Z",
     "iopub.status.busy": "2024-11-25T07:18:26.919055Z",
     "iopub.status.idle": "2024-11-25T07:18:26.922397Z",
     "shell.execute_reply": "2024-11-25T07:18:26.921705Z"
    },
    "papermill": {
     "duration": 0.013465,
     "end_time": "2024-11-25T07:18:26.923974",
     "exception": false,
     "start_time": "2024-11-25T07:18:26.910509",
     "status": "completed"
    },
    "tags": []
   },
   "outputs": [],
   "source": [
    "train_size = int(0.8 * len(segmentation_dataset))\n",
    "val_size = len(segmentation_dataset) - train_size"
   ]
  },
  {
   "cell_type": "code",
   "execution_count": 9,
   "id": "c68c7e2e",
   "metadata": {
    "execution": {
     "iopub.execute_input": "2024-11-25T07:18:26.940330Z",
     "iopub.status.busy": "2024-11-25T07:18:26.940098Z",
     "iopub.status.idle": "2024-11-25T07:18:26.954502Z",
     "shell.execute_reply": "2024-11-25T07:18:26.953943Z"
    },
    "papermill": {
     "duration": 0.02412,
     "end_time": "2024-11-25T07:18:26.955985",
     "exception": false,
     "start_time": "2024-11-25T07:18:26.931865",
     "status": "completed"
    },
    "tags": []
   },
   "outputs": [],
   "source": [
    "# Set seed\n",
    "torch.manual_seed(0)\n",
    "train_dataset, val_dataset = random_split(segmentation_dataset, [train_size, val_size])"
   ]
  },
  {
   "cell_type": "code",
   "execution_count": 10,
   "id": "72d0c142",
   "metadata": {
    "execution": {
     "iopub.execute_input": "2024-11-25T07:18:26.972569Z",
     "iopub.status.busy": "2024-11-25T07:18:26.972327Z",
     "iopub.status.idle": "2024-11-25T07:18:26.976374Z",
     "shell.execute_reply": "2024-11-25T07:18:26.975708Z"
    },
    "papermill": {
     "duration": 0.014322,
     "end_time": "2024-11-25T07:18:26.977954",
     "exception": false,
     "start_time": "2024-11-25T07:18:26.963632",
     "status": "completed"
    },
    "tags": []
   },
   "outputs": [],
   "source": [
    "train_transforms = transforms.Compose([\n",
    "    \n",
    "    transforms.GaussianBlur(kernel_size=3),\n",
    "    transforms.RandomHorizontalFlip(p=0.5),         \n",
    "    transforms.RandomRotation(10),              \n",
    "    #ransforms.RandomResizedCrop(size=(570,640)),  \n",
    "])\n",
    "\n",
    "val_transforms = transforms.Compose([\n",
    "    #transforms.RandomResizedCrop(size=(570,640))\n",
    "])"
   ]
  },
  {
   "cell_type": "code",
   "execution_count": 11,
   "id": "4692839e",
   "metadata": {
    "execution": {
     "iopub.execute_input": "2024-11-25T07:18:26.994191Z",
     "iopub.status.busy": "2024-11-25T07:18:26.993958Z",
     "iopub.status.idle": "2024-11-25T07:18:26.997163Z",
     "shell.execute_reply": "2024-11-25T07:18:26.996469Z"
    },
    "papermill": {
     "duration": 0.013221,
     "end_time": "2024-11-25T07:18:26.998769",
     "exception": false,
     "start_time": "2024-11-25T07:18:26.985548",
     "status": "completed"
    },
    "tags": []
   },
   "outputs": [],
   "source": [
    "train_dataset.dataset.transform = train_transforms\n",
    "val_dataset.dataset.transform = val_transforms"
   ]
  },
  {
   "cell_type": "code",
   "execution_count": 12,
   "id": "f6df9b2c",
   "metadata": {
    "execution": {
     "iopub.execute_input": "2024-11-25T07:18:27.014752Z",
     "iopub.status.busy": "2024-11-25T07:18:27.014483Z",
     "iopub.status.idle": "2024-11-25T07:18:27.018252Z",
     "shell.execute_reply": "2024-11-25T07:18:27.017553Z"
    },
    "papermill": {
     "duration": 0.013504,
     "end_time": "2024-11-25T07:18:27.019788",
     "exception": false,
     "start_time": "2024-11-25T07:18:27.006284",
     "status": "completed"
    },
    "tags": []
   },
   "outputs": [],
   "source": [
    "train_loader = DataLoader(train_dataset, batch_size= 16, shuffle=True)\n",
    "val_loader = DataLoader(val_dataset, batch_size=32, shuffle=False)"
   ]
  },
  {
   "cell_type": "code",
   "execution_count": 13,
   "id": "f0393cde",
   "metadata": {
    "execution": {
     "iopub.execute_input": "2024-11-25T07:18:27.035856Z",
     "iopub.status.busy": "2024-11-25T07:18:27.035606Z",
     "iopub.status.idle": "2024-11-25T07:18:27.041333Z",
     "shell.execute_reply": "2024-11-25T07:18:27.040469Z"
    },
    "papermill": {
     "duration": 0.015521,
     "end_time": "2024-11-25T07:18:27.042828",
     "exception": false,
     "start_time": "2024-11-25T07:18:27.027307",
     "status": "completed"
    },
    "tags": []
   },
   "outputs": [
    {
     "data": {
      "text/plain": [
       "(800, 200)"
      ]
     },
     "execution_count": 13,
     "metadata": {},
     "output_type": "execute_result"
    }
   ],
   "source": [
    "len(train_dataset), len(val_dataset)"
   ]
  },
  {
   "cell_type": "code",
   "execution_count": 14,
   "id": "9b58d1ea",
   "metadata": {
    "execution": {
     "iopub.execute_input": "2024-11-25T07:18:27.058972Z",
     "iopub.status.busy": "2024-11-25T07:18:27.058695Z",
     "iopub.status.idle": "2024-11-25T07:18:28.831352Z",
     "shell.execute_reply": "2024-11-25T07:18:28.830503Z"
    },
    "papermill": {
     "duration": 1.783931,
     "end_time": "2024-11-25T07:18:28.834338",
     "exception": false,
     "start_time": "2024-11-25T07:18:27.050407",
     "status": "completed"
    },
    "tags": []
   },
   "outputs": [
    {
     "data": {
      "image/png": "[encoded data removed]",
      "text/plain": [
       "<Figure size 1000x1000 with 8 Axes>"
      ]
     },
     "metadata": {},
     "output_type": "display_data"
    }
   ],
   "source": [
    "visualize_segmentation(train_dataset)"
   ]
  },
  {
   "cell_type": "code",
   "execution_count": 15,
   "id": "4e4df533",
   "metadata": {
    "execution": {
     "iopub.execute_input": "2024-11-25T07:18:28.856473Z",
     "iopub.status.busy": "2024-11-25T07:18:28.856197Z",
     "iopub.status.idle": "2024-11-25T07:18:29.940975Z",
     "shell.execute_reply": "2024-11-25T07:18:29.940020Z"
    },
    "papermill": {
     "duration": 1.098086,
     "end_time": "2024-11-25T07:18:29.943135",
     "exception": false,
     "start_time": "2024-11-25T07:18:28.845049",
     "status": "completed"
    },
    "tags": []
   },
   "outputs": [
    {
     "name": "stdout",
     "output_type": "stream",
     "text": [
      "Input image size is (3, 256, 256)\n",
      "Mask image size is (256, 256)\n"
     ]
    }
   ],
   "source": [
    "images, masks = next(iter(train_loader))\n",
    "first_image , first_mask = images[0] , masks[0]\n",
    "input_size = tuple(first_image.shape)\n",
    "mask_size = tuple(first_mask.shape)\n",
    "print(f\"Input image size is {input_size}\")\n",
    "print(f\"Mask image size is {mask_size}\")"
   ]
  },
  {
   "cell_type": "markdown",
   "id": "8fccecb1",
   "metadata": {
    "papermill": {
     "duration": 0.010411,
     "end_time": "2024-11-25T07:18:29.967338",
     "exception": false,
     "start_time": "2024-11-25T07:18:29.956927",
     "status": "completed"
    },
    "tags": []
   },
   "source": [
    "# Model"
   ]
  },
  {
   "cell_type": "code",
   "execution_count": 16,
   "id": "eab293e4",
   "metadata": {
    "execution": {
     "iopub.execute_input": "2024-11-25T07:18:29.989817Z",
     "iopub.status.busy": "2024-11-25T07:18:29.989113Z",
     "iopub.status.idle": "2024-11-25T07:18:30.073140Z",
     "shell.execute_reply": "2024-11-25T07:18:30.072336Z"
    },
    "papermill": {
     "duration": 0.097258,
     "end_time": "2024-11-25T07:18:30.074949",
     "exception": false,
     "start_time": "2024-11-25T07:18:29.977691",
     "status": "completed"
    },
    "tags": []
   },
   "outputs": [
    {
     "data": {
      "text/plain": [
       "device(type='cuda')"
      ]
     },
     "execution_count": 16,
     "metadata": {},
     "output_type": "execute_result"
    }
   ],
   "source": [
    "device = torch.device(\"cuda\" if torch.cuda.is_available() else \"cpu\")\n",
    "device\n"
   ]
  },
  {
   "cell_type": "code",
   "execution_count": 17,
   "id": "570d8268",
   "metadata": {
    "execution": {
     "iopub.execute_input": "2024-11-25T07:18:30.098459Z",
     "iopub.status.busy": "2024-11-25T07:18:30.097819Z",
     "iopub.status.idle": "2024-11-25T07:18:31.510483Z",
     "shell.execute_reply": "2024-11-25T07:18:31.509522Z"
    },
    "papermill": {
     "duration": 1.426793,
     "end_time": "2024-11-25T07:18:31.512920",
     "exception": false,
     "start_time": "2024-11-25T07:18:30.086127",
     "status": "completed"
    },
    "tags": []
   },
   "outputs": [
    {
     "name": "stderr",
     "output_type": "stream",
     "text": [
      "Downloading: \"https://github.com/lukemelas/EfficientNet-PyTorch/releases/download/1.0/efficientnet-b5-b6417697.pth\" to /root/.cache/torch/hub/checkpoints/efficientnet-b5-b6417697.pth\n",
      "100%|██████████| 117M/117M [00:00<00:00, 224MB/s]\n"
     ]
    }
   ],
   "source": [
    "# model = models.segmentation.deeplabv3_resnet50(pretrained=True)\n",
    "# num_classes = 3 \n",
    "# model.classifier[4] = torch.nn.Conv2d(256, num_classes, kernel_size=(1, 1))\n",
    "\n",
    "model = smp.UnetPlusPlus(\n",
    "    encoder_name=\"efficientnet-b5\",        \n",
    "    encoder_weights=\"imagenet\",     \n",
    "    in_channels=3,                  \n",
    "    classes=3     \n",
    ")"
   ]
  },
  {
   "cell_type": "code",
   "execution_count": 18,
   "id": "f8172fb3",
   "metadata": {
    "execution": {
     "iopub.execute_input": "2024-11-25T07:18:31.540413Z",
     "iopub.status.busy": "2024-11-25T07:18:31.540127Z",
     "iopub.status.idle": "2024-11-25T07:18:31.589617Z",
     "shell.execute_reply": "2024-11-25T07:18:31.588775Z"
    },
    "papermill": {
     "duration": 0.063285,
     "end_time": "2024-11-25T07:18:31.591426",
     "exception": false,
     "start_time": "2024-11-25T07:18:31.528141",
     "status": "completed"
    },
    "tags": []
   },
   "outputs": [
    {
     "data": {
      "text/plain": [
       "================================================================================\n",
       "Layer (type:depth-idx)                                  Param #\n",
       "================================================================================\n",
       "UnetPlusPlus                                            --\n",
       "├─EfficientNetEncoder: 1-1                              --\n",
       "│    └─Conv2dStaticSamePadding: 2-1                     1,296\n",
       "│    │    └─ZeroPad2d: 3-1                              --\n",
       "│    └─BatchNorm2d: 2-2                                 96\n",
       "│    └─ModuleList: 2-3                                  --\n",
       "│    │    └─MBConvBlock: 3-2                            2,940\n",
       "│    │    └─MBConvBlock: 3-3                            1,206\n",
       "│    │    └─MBConvBlock: 3-4                            1,206\n",
       "│    │    └─MBConvBlock: 3-5                            13,046\n",
       "│    │    └─MBConvBlock: 3-6                            27,450\n",
       "│    │    └─MBConvBlock: 3-7                            27,450\n",
       "│    │    └─MBConvBlock: 3-8                            27,450\n",
       "│    │    └─MBConvBlock: 3-9                            27,450\n",
       "│    │    └─MBConvBlock: 3-10                           37,098\n",
       "│    │    └─MBConvBlock: 3-11                           73,104\n",
       "│    │    └─MBConvBlock: 3-12                           73,104\n",
       "│    │    └─MBConvBlock: 3-13                           73,104\n",
       "│    │    └─MBConvBlock: 3-14                           73,104\n",
       "│    │    └─MBConvBlock: 3-15                           91,664\n",
       "│    │    └─MBConvBlock: 3-16                           256,800\n",
       "│    │    └─MBConvBlock: 3-17                           256,800\n",
       "│    │    └─MBConvBlock: 3-18                           256,800\n",
       "│    │    └─MBConvBlock: 3-19                           256,800\n",
       "│    │    └─MBConvBlock: 3-20                           256,800\n",
       "│    │    └─MBConvBlock: 3-21                           256,800\n",
       "│    │    └─MBConvBlock: 3-22                           306,048\n",
       "│    │    └─MBConvBlock: 3-23                           496,716\n",
       "│    │    └─MBConvBlock: 3-24                           496,716\n",
       "│    │    └─MBConvBlock: 3-25                           496,716\n",
       "│    │    └─MBConvBlock: 3-26                           496,716\n",
       "│    │    └─MBConvBlock: 3-27                           496,716\n",
       "│    │    └─MBConvBlock: 3-28                           496,716\n",
       "│    │    └─MBConvBlock: 3-29                           632,140\n",
       "│    │    └─MBConvBlock: 3-30                           1,441,644\n",
       "│    │    └─MBConvBlock: 3-31                           1,441,644\n",
       "│    │    └─MBConvBlock: 3-32                           1,441,644\n",
       "│    │    └─MBConvBlock: 3-33                           1,441,644\n",
       "│    │    └─MBConvBlock: 3-34                           1,441,644\n",
       "│    │    └─MBConvBlock: 3-35                           1,441,644\n",
       "│    │    └─MBConvBlock: 3-36                           1,441,644\n",
       "│    │    └─MBConvBlock: 3-37                           1,441,644\n",
       "│    │    └─MBConvBlock: 3-38                           1,792,268\n",
       "│    │    └─MBConvBlock: 3-39                           3,976,320\n",
       "│    │    └─MBConvBlock: 3-40                           3,976,320\n",
       "│    └─Conv2dStaticSamePadding: 2-4                     1,048,576\n",
       "│    │    └─Identity: 3-41                              --\n",
       "│    └─BatchNorm2d: 2-5                                 4,096\n",
       "│    └─AdaptiveAvgPool2d: 2-6                           --\n",
       "│    └─Dropout: 2-7                                     --\n",
       "│    └─MemoryEfficientSwish: 2-8                        --\n",
       "├─UnetPlusPlusDecoder: 1-2                              --\n",
       "│    └─Identity: 2-9                                    --\n",
       "│    └─ModuleDict: 2-10                                 --\n",
       "│    │    └─DecoderBlock: 3-42                          2,176,000\n",
       "│    │    └─DecoderBlock: 3-43                          590,336\n",
       "│    │    └─DecoderBlock: 3-44                          175,360\n",
       "│    │    └─DecoderBlock: 3-45                          179,968\n",
       "│    │    └─DecoderBlock: 3-46                          66,400\n",
       "│    │    └─DecoderBlock: 3-47                          52,000\n",
       "│    │    └─DecoderBlock: 3-48                          83,072\n",
       "│    │    └─DecoderBlock: 3-49                          100,416\n",
       "│    │    └─DecoderBlock: 3-50                          79,680\n",
       "│    │    └─DecoderBlock: 3-51                          58,944\n",
       "│    │    └─DecoderBlock: 3-52                          6,976\n",
       "├─SegmentationHead: 1-3                                 --\n",
       "│    └─Conv2d: 2-11                                     435\n",
       "│    └─Identity: 2-12                                   --\n",
       "│    └─Activation: 2-13                                 --\n",
       "│    │    └─Identity: 3-53                              --\n",
       "================================================================================\n",
       "Total params: 31,910,371\n",
       "Trainable params: 31,910,371\n",
       "Non-trainable params: 0\n",
       "================================================================================"
      ]
     },
     "execution_count": 18,
     "metadata": {},
     "output_type": "execute_result"
    }
   ],
   "source": [
    "summary(model)"
   ]
  },
  {
   "cell_type": "code",
   "execution_count": 19,
   "id": "1854d61c",
   "metadata": {
    "execution": {
     "iopub.execute_input": "2024-11-25T07:18:31.619001Z",
     "iopub.status.busy": "2024-11-25T07:18:31.618669Z",
     "iopub.status.idle": "2024-11-25T07:18:31.869151Z",
     "shell.execute_reply": "2024-11-25T07:18:31.868289Z"
    },
    "papermill": {
     "duration": 0.265133,
     "end_time": "2024-11-25T07:18:31.871424",
     "exception": false,
     "start_time": "2024-11-25T07:18:31.606291",
     "status": "completed"
    },
    "tags": []
   },
   "outputs": [
    {
     "data": {
      "text/plain": [
       "UnetPlusPlus(\n",
       "  (encoder): EfficientNetEncoder(\n",
       "    (_conv_stem): Conv2dStaticSamePadding(\n",
       "      3, 48, kernel_size=(3, 3), stride=(2, 2), bias=False\n",
       "      (static_padding): ZeroPad2d((0, 1, 0, 1))\n",
       "    )\n",
       "    (_bn0): BatchNorm2d(48, eps=0.001, momentum=0.010000000000000009, affine=True, track_running_stats=True)\n",
       "    (_blocks): ModuleList(\n",
       "      (0): MBConvBlock(\n",
       "        (_depthwise_conv): Conv2dStaticSamePadding(\n",
       "          48, 48, kernel_size=(3, 3), stride=[1, 1], groups=48, bias=False\n",
       "          (static_padding): ZeroPad2d((1, 1, 1, 1))\n",
       "        )\n",
       "        (_bn1): BatchNorm2d(48, eps=0.001, momentum=0.010000000000000009, affine=True, track_running_stats=True)\n",
       "        (_se_reduce): Conv2dStaticSamePadding(\n",
       "          48, 12, kernel_size=(1, 1), stride=(1, 1)\n",
       "          (static_padding): Identity()\n",
       "        )\n",
       "        (_se_expand): Conv2dStaticSamePadding(\n",
       "          12, 48, kernel_size=(1, 1), stride=(1, 1)\n",
       "          (static_padding): Identity()\n",
       "        )\n",
       "        (_project_conv): Conv2dStaticSamePadding(\n",
       "          48, 24, kernel_size=(1, 1), stride=(1, 1), bias=False\n",
       "          (static_padding): Identity()\n",
       "        )\n",
       "        (_bn2): BatchNorm2d(24, eps=0.001, momentum=0.010000000000000009, affine=True, track_running_stats=True)\n",
       "        (_swish): MemoryEfficientSwish()\n",
       "      )\n",
       "      (1-2): 2 x MBConvBlock(\n",
       "        (_depthwise_conv): Conv2dStaticSamePadding(\n",
       "          24, 24, kernel_size=(3, 3), stride=(1, 1), groups=24, bias=False\n",
       "          (static_padding): ZeroPad2d((1, 1, 1, 1))\n",
       "        )\n",
       "        (_bn1): BatchNorm2d(24, eps=0.001, momentum=0.010000000000000009, affine=True, track_running_stats=True)\n",
       "        (_se_reduce): Conv2dStaticSamePadding(\n",
       "          24, 6, kernel_size=(1, 1), stride=(1, 1)\n",
       "          (static_padding): Identity()\n",
       "        )\n",
       "        (_se_expand): Conv2dStaticSamePadding(\n",
       "          6, 24, kernel_size=(1, 1), stride=(1, 1)\n",
       "          (static_padding): Identity()\n",
       "        )\n",
       "        (_project_conv): Conv2dStaticSamePadding(\n",
       "          24, 24, kernel_size=(1, 1), stride=(1, 1), bias=False\n",
       "          (static_padding): Identity()\n",
       "        )\n",
       "        (_bn2): BatchNorm2d(24, eps=0.001, momentum=0.010000000000000009, affine=True, track_running_stats=True)\n",
       "        (_swish): MemoryEfficientSwish()\n",
       "      )\n",
       "      (3): MBConvBlock(\n",
       "        (_expand_conv): Conv2dStaticSamePadding(\n",
       "          24, 144, kernel_size=(1, 1), stride=(1, 1), bias=False\n",
       "          (static_padding): Identity()\n",
       "        )\n",
       "        (_bn0): BatchNorm2d(144, eps=0.001, momentum=0.010000000000000009, affine=True, track_running_stats=True)\n",
       "        (_depthwise_conv): Conv2dStaticSamePadding(\n",
       "          144, 144, kernel_size=(3, 3), stride=[2, 2], groups=144, bias=False\n",
       "          (static_padding): ZeroPad2d((0, 1, 0, 1))\n",
       "        )\n",
       "        (_bn1): BatchNorm2d(144, eps=0.001, momentum=0.010000000000000009, affine=True, track_running_stats=True)\n",
       "        (_se_reduce): Conv2dStaticSamePadding(\n",
       "          144, 6, kernel_size=(1, 1), stride=(1, 1)\n",
       "          (static_padding): Identity()\n",
       "        )\n",
       "        (_se_expand): Conv2dStaticSamePadding(\n",
       "          6, 144, kernel_size=(1, 1), stride=(1, 1)\n",
       "          (static_padding): Identity()\n",
       "        )\n",
       "        (_project_conv): Conv2dStaticSamePadding(\n",
       "          144, 40, kernel_size=(1, 1), stride=(1, 1), bias=False\n",
       "          (static_padding): Identity()\n",
       "        )\n",
       "        (_bn2): BatchNorm2d(40, eps=0.001, momentum=0.010000000000000009, affine=True, track_running_stats=True)\n",
       "        (_swish): MemoryEfficientSwish()\n",
       "      )\n",
       "      (4-7): 4 x MBConvBlock(\n",
       "        (_expand_conv): Conv2dStaticSamePadding(\n",
       "          40, 240, kernel_size=(1, 1), stride=(1, 1), bias=False\n",
       "          (static_padding): Identity()\n",
       "        )\n",
       "        (_bn0): BatchNorm2d(240, eps=0.001, momentum=0.010000000000000009, affine=True, track_running_stats=True)\n",
       "        (_depthwise_conv): Conv2dStaticSamePadding(\n",
       "          240, 240, kernel_size=(3, 3), stride=(1, 1), groups=240, bias=False\n",
       "          (static_padding): ZeroPad2d((1, 1, 1, 1))\n",
       "        )\n",
       "        (_bn1): BatchNorm2d(240, eps=0.001, momentum=0.010000000000000009, affine=True, track_running_stats=True)\n",
       "        (_se_reduce): Conv2dStaticSamePadding(\n",
       "          240, 10, kernel_size=(1, 1), stride=(1, 1)\n",
       "          (static_padding): Identity()\n",
       "        )\n",
       "        (_se_expand): Conv2dStaticSamePadding(\n",
       "          10, 240, kernel_size=(1, 1), stride=(1, 1)\n",
       "          (static_padding): Identity()\n",
       "        )\n",
       "        (_project_conv): Conv2dStaticSamePadding(\n",
       "          240, 40, kernel_size=(1, 1), stride=(1, 1), bias=False\n",
       "          (static_padding): Identity()\n",
       "        )\n",
       "        (_bn2): BatchNorm2d(40, eps=0.001, momentum=0.010000000000000009, affine=True, track_running_stats=True)\n",
       "        (_swish): MemoryEfficientSwish()\n",
       "      )\n",
       "      (8): MBConvBlock(\n",
       "        (_expand_conv): Conv2dStaticSamePadding(\n",
       "          40, 240, kernel_size=(1, 1), stride=(1, 1), bias=False\n",
       "          (static_padding): Identity()\n",
       "        )\n",
       "        (_bn0): BatchNorm2d(240, eps=0.001, momentum=0.010000000000000009, affine=True, track_running_stats=True)\n",
       "        (_depthwise_conv): Conv2dStaticSamePadding(\n",
       "          240, 240, kernel_size=(5, 5), stride=[2, 2], groups=240, bias=False\n",
       "          (static_padding): ZeroPad2d((1, 2, 1, 2))\n",
       "        )\n",
       "        (_bn1): BatchNorm2d(240, eps=0.001, momentum=0.010000000000000009, affine=True, track_running_stats=True)\n",
       "        (_se_reduce): Conv2dStaticSamePadding(\n",
       "          240, 10, kernel_size=(1, 1), stride=(1, 1)\n",
       "          (static_padding): Identity()\n",
       "        )\n",
       "        (_se_expand): Conv2dStaticSamePadding(\n",
       "          10, 240, kernel_size=(1, 1), stride=(1, 1)\n",
       "          (static_padding): Identity()\n",
       "        )\n",
       "        (_project_conv): Conv2dStaticSamePadding(\n",
       "          240, 64, kernel_size=(1, 1), stride=(1, 1), bias=False\n",
       "          (static_padding): Identity()\n",
       "        )\n",
       "        (_bn2): BatchNorm2d(64, eps=0.001, momentum=0.010000000000000009, affine=True, track_running_stats=True)\n",
       "        (_swish): MemoryEfficientSwish()\n",
       "      )\n",
       "      (9-12): 4 x MBConvBlock(\n",
       "        (_expand_conv): Conv2dStaticSamePadding(\n",
       "          64, 384, kernel_size=(1, 1), stride=(1, 1), bias=False\n",
       "          (static_padding): Identity()\n",
       "        )\n",
       "        (_bn0): BatchNorm2d(384, eps=0.001, momentum=0.010000000000000009, affine=True, track_running_stats=True)\n",
       "        (_depthwise_conv): Conv2dStaticSamePadding(\n",
       "          384, 384, kernel_size=(5, 5), stride=(1, 1), groups=384, bias=False\n",
       "          (static_padding): ZeroPad2d((2, 2, 2, 2))\n",
       "        )\n",
       "        (_bn1): BatchNorm2d(384, eps=0.001, momentum=0.010000000000000009, affine=True, track_running_stats=True)\n",
       "        (_se_reduce): Conv2dStaticSamePadding(\n",
       "          384, 16, kernel_size=(1, 1), stride=(1, 1)\n",
       "          (static_padding): Identity()\n",
       "        )\n",
       "        (_se_expand): Conv2dStaticSamePadding(\n",
       "          16, 384, kernel_size=(1, 1), stride=(1, 1)\n",
       "          (static_padding): Identity()\n",
       "        )\n",
       "        (_project_conv): Conv2dStaticSamePadding(\n",
       "          384, 64, kernel_size=(1, 1), stride=(1, 1), bias=False\n",
       "          (static_padding): Identity()\n",
       "        )\n",
       "        (_bn2): BatchNorm2d(64, eps=0.001, momentum=0.010000000000000009, affine=True, track_running_stats=True)\n",
       "        (_swish): MemoryEfficientSwish()\n",
       "      )\n",
       "      (13): MBConvBlock(\n",
       "        (_expand_conv): Conv2dStaticSamePadding(\n",
       "          64, 384, kernel_size=(1, 1), stride=(1, 1), bias=False\n",
       "          (static_padding): Identity()\n",
       "        )\n",
       "        (_bn0): BatchNorm2d(384, eps=0.001, momentum=0.010000000000000009, affine=True, track_running_stats=True)\n",
       "        (_depthwise_conv): Conv2dStaticSamePadding(\n",
       "          384, 384, kernel_size=(3, 3), stride=[2, 2], groups=384, bias=False\n",
       "          (static_padding): ZeroPad2d((1, 1, 1, 1))\n",
       "        )\n",
       "        (_bn1): BatchNorm2d(384, eps=0.001, momentum=0.010000000000000009, affine=True, track_running_stats=True)\n",
       "        (_se_reduce): Conv2dStaticSamePadding(\n",
       "          384, 16, kernel_size=(1, 1), stride=(1, 1)\n",
       "          (static_padding): Identity()\n",
       "        )\n",
       "        (_se_expand): Conv2dStaticSamePadding(\n",
       "          16, 384, kernel_size=(1, 1), stride=(1, 1)\n",
       "          (static_padding): Identity()\n",
       "        )\n",
       "        (_project_conv): Conv2dStaticSamePadding(\n",
       "          384, 128, kernel_size=(1, 1), stride=(1, 1), bias=False\n",
       "          (static_padding): Identity()\n",
       "        )\n",
       "        (_bn2): BatchNorm2d(128, eps=0.001, momentum=0.010000000000000009, affine=True, track_running_stats=True)\n",
       "        (_swish): MemoryEfficientSwish()\n",
       "      )\n",
       "      (14-19): 6 x MBConvBlock(\n",
       "        (_expand_conv): Conv2dStaticSamePadding(\n",
       "          128, 768, kernel_size=(1, 1), stride=(1, 1), bias=False\n",
       "          (static_padding): Identity()\n",
       "        )\n",
       "        (_bn0): BatchNorm2d(768, eps=0.001, momentum=0.010000000000000009, affine=True, track_running_stats=True)\n",
       "        (_depthwise_conv): Conv2dStaticSamePadding(\n",
       "          768, 768, kernel_size=(3, 3), stride=(1, 1), groups=768, bias=False\n",
       "          (static_padding): ZeroPad2d((1, 1, 1, 1))\n",
       "        )\n",
       "        (_bn1): BatchNorm2d(768, eps=0.001, momentum=0.010000000000000009, affine=True, track_running_stats=True)\n",
       "        (_se_reduce): Conv2dStaticSamePadding(\n",
       "          768, 32, kernel_size=(1, 1), stride=(1, 1)\n",
       "          (static_padding): Identity()\n",
       "        )\n",
       "        (_se_expand): Conv2dStaticSamePadding(\n",
       "          32, 768, kernel_size=(1, 1), stride=(1, 1)\n",
       "          (static_padding): Identity()\n",
       "        )\n",
       "        (_project_conv): Conv2dStaticSamePadding(\n",
       "          768, 128, kernel_size=(1, 1), stride=(1, 1), bias=False\n",
       "          (static_padding): Identity()\n",
       "        )\n",
       "        (_bn2): BatchNorm2d(128, eps=0.001, momentum=0.010000000000000009, affine=True, track_running_stats=True)\n",
       "        (_swish): MemoryEfficientSwish()\n",
       "      )\n",
       "      (20): MBConvBlock(\n",
       "        (_expand_conv): Conv2dStaticSamePadding(\n",
       "          128, 768, kernel_size=(1, 1), stride=(1, 1), bias=False\n",
       "          (static_padding): Identity()\n",
       "        )\n",
       "        (_bn0): BatchNorm2d(768, eps=0.001, momentum=0.010000000000000009, affine=True, track_running_stats=True)\n",
       "        (_depthwise_conv): Conv2dStaticSamePadding(\n",
       "          768, 768, kernel_size=(5, 5), stride=[1, 1], groups=768, bias=False\n",
       "          (static_padding): ZeroPad2d((2, 2, 2, 2))\n",
       "        )\n",
       "        (_bn1): BatchNorm2d(768, eps=0.001, momentum=0.010000000000000009, affine=True, track_running_stats=True)\n",
       "        (_se_reduce): Conv2dStaticSamePadding(\n",
       "          768, 32, kernel_size=(1, 1), stride=(1, 1)\n",
       "          (static_padding): Identity()\n",
       "        )\n",
       "        (_se_expand): Conv2dStaticSamePadding(\n",
       "          32, 768, kernel_size=(1, 1), stride=(1, 1)\n",
       "          (static_padding): Identity()\n",
       "        )\n",
       "        (_project_conv): Conv2dStaticSamePadding(\n",
       "          768, 176, kernel_size=(1, 1), stride=(1, 1), bias=False\n",
       "          (static_padding): Identity()\n",
       "        )\n",
       "        (_bn2): BatchNorm2d(176, eps=0.001, momentum=0.010000000000000009, affine=True, track_running_stats=True)\n",
       "        (_swish): MemoryEfficientSwish()\n",
       "      )\n",
       "      (21-26): 6 x MBConvBlock(\n",
       "        (_expand_conv): Conv2dStaticSamePadding(\n",
       "          176, 1056, kernel_size=(1, 1), stride=(1, 1), bias=False\n",
       "          (static_padding): Identity()\n",
       "        )\n",
       "        (_bn0): BatchNorm2d(1056, eps=0.001, momentum=0.010000000000000009, affine=True, track_running_stats=True)\n",
       "        (_depthwise_conv): Conv2dStaticSamePadding(\n",
       "          1056, 1056, kernel_size=(5, 5), stride=(1, 1), groups=1056, bias=False\n",
       "          (static_padding): ZeroPad2d((2, 2, 2, 2))\n",
       "        )\n",
       "        (_bn1): BatchNorm2d(1056, eps=0.001, momentum=0.010000000000000009, affine=True, track_running_stats=True)\n",
       "        (_se_reduce): Conv2dStaticSamePadding(\n",
       "          1056, 44, kernel_size=(1, 1), stride=(1, 1)\n",
       "          (static_padding): Identity()\n",
       "        )\n",
       "        (_se_expand): Conv2dStaticSamePadding(\n",
       "          44, 1056, kernel_size=(1, 1), stride=(1, 1)\n",
       "          (static_padding): Identity()\n",
       "        )\n",
       "        (_project_conv): Conv2dStaticSamePadding(\n",
       "          1056, 176, kernel_size=(1, 1), stride=(1, 1), bias=False\n",
       "          (static_padding): Identity()\n",
       "        )\n",
       "        (_bn2): BatchNorm2d(176, eps=0.001, momentum=0.010000000000000009, affine=True, track_running_stats=True)\n",
       "        (_swish): MemoryEfficientSwish()\n",
       "      )\n",
       "      (27): MBConvBlock(\n",
       "        (_expand_conv): Conv2dStaticSamePadding(\n",
       "          176, 1056, kernel_size=(1, 1), stride=(1, 1), bias=False\n",
       "          (static_padding): Identity()\n",
       "        )\n",
       "        (_bn0): BatchNorm2d(1056, eps=0.001, momentum=0.010000000000000009, affine=True, track_running_stats=True)\n",
       "        (_depthwise_conv): Conv2dStaticSamePadding(\n",
       "          1056, 1056, kernel_size=(5, 5), stride=[2, 2], groups=1056, bias=False\n",
       "          (static_padding): ZeroPad2d((2, 2, 2, 2))\n",
       "        )\n",
       "        (_bn1): BatchNorm2d(1056, eps=0.001, momentum=0.010000000000000009, affine=True, track_running_stats=True)\n",
       "        (_se_reduce): Conv2dStaticSamePadding(\n",
       "          1056, 44, kernel_size=(1, 1), stride=(1, 1)\n",
       "          (static_padding): Identity()\n",
       "        )\n",
       "        (_se_expand): Conv2dStaticSamePadding(\n",
       "          44, 1056, kernel_size=(1, 1), stride=(1, 1)\n",
       "          (static_padding): Identity()\n",
       "        )\n",
       "        (_project_conv): Conv2dStaticSamePadding(\n",
       "          1056, 304, kernel_size=(1, 1), stride=(1, 1), bias=False\n",
       "          (static_padding): Identity()\n",
       "        )\n",
       "        (_bn2): BatchNorm2d(304, eps=0.001, momentum=0.010000000000000009, affine=True, track_running_stats=True)\n",
       "        (_swish): MemoryEfficientSwish()\n",
       "      )\n",
       "      (28-35): 8 x MBConvBlock(\n",
       "        (_expand_conv): Conv2dStaticSamePadding(\n",
       "          304, 1824, kernel_size=(1, 1), stride=(1, 1), bias=False\n",
       "          (static_padding): Identity()\n",
       "        )\n",
       "        (_bn0): BatchNorm2d(1824, eps=0.001, momentum=0.010000000000000009, affine=True, track_running_stats=True)\n",
       "        (_depthwise_conv): Conv2dStaticSamePadding(\n",
       "          1824, 1824, kernel_size=(5, 5), stride=(1, 1), groups=1824, bias=False\n",
       "          (static_padding): ZeroPad2d((2, 2, 2, 2))\n",
       "        )\n",
       "        (_bn1): BatchNorm2d(1824, eps=0.001, momentum=0.010000000000000009, affine=True, track_running_stats=True)\n",
       "        (_se_reduce): Conv2dStaticSamePadding(\n",
       "          1824, 76, kernel_size=(1, 1), stride=(1, 1)\n",
       "          (static_padding): Identity()\n",
       "        )\n",
       "        (_se_expand): Conv2dStaticSamePadding(\n",
       "          76, 1824, kernel_size=(1, 1), stride=(1, 1)\n",
       "          (static_padding): Identity()\n",
       "        )\n",
       "        (_project_conv): Conv2dStaticSamePadding(\n",
       "          1824, 304, kernel_size=(1, 1), stride=(1, 1), bias=False\n",
       "          (static_padding): Identity()\n",
       "        )\n",
       "        (_bn2): BatchNorm2d(304, eps=0.001, momentum=0.010000000000000009, affine=True, track_running_stats=True)\n",
       "        (_swish): MemoryEfficientSwish()\n",
       "      )\n",
       "      (36): MBConvBlock(\n",
       "        (_expand_conv): Conv2dStaticSamePadding(\n",
       "          304, 1824, kernel_size=(1, 1), stride=(1, 1), bias=False\n",
       "          (static_padding): Identity()\n",
       "        )\n",
       "        (_bn0): BatchNorm2d(1824, eps=0.001, momentum=0.010000000000000009, affine=True, track_running_stats=True)\n",
       "        (_depthwise_conv): Conv2dStaticSamePadding(\n",
       "          1824, 1824, kernel_size=(3, 3), stride=[1, 1], groups=1824, bias=False\n",
       "          (static_padding): ZeroPad2d((1, 1, 1, 1))\n",
       "        )\n",
       "        (_bn1): BatchNorm2d(1824, eps=0.001, momentum=0.010000000000000009, affine=True, track_running_stats=True)\n",
       "        (_se_reduce): Conv2dStaticSamePadding(\n",
       "          1824, 76, kernel_size=(1, 1), stride=(1, 1)\n",
       "          (static_padding): Identity()\n",
       "        )\n",
       "        (_se_expand): Conv2dStaticSamePadding(\n",
       "          76, 1824, kernel_size=(1, 1), stride=(1, 1)\n",
       "          (static_padding): Identity()\n",
       "        )\n",
       "        (_project_conv): Conv2dStaticSamePadding(\n",
       "          1824, 512, kernel_size=(1, 1), stride=(1, 1), bias=False\n",
       "          (static_padding): Identity()\n",
       "        )\n",
       "        (_bn2): BatchNorm2d(512, eps=0.001, momentum=0.010000000000000009, affine=True, track_running_stats=True)\n",
       "        (_swish): MemoryEfficientSwish()\n",
       "      )\n",
       "      (37-38): 2 x MBConvBlock(\n",
       "        (_expand_conv): Conv2dStaticSamePadding(\n",
       "          512, 3072, kernel_size=(1, 1), stride=(1, 1), bias=False\n",
       "          (static_padding): Identity()\n",
       "        )\n",
       "        (_bn0): BatchNorm2d(3072, eps=0.001, momentum=0.010000000000000009, affine=True, track_running_stats=True)\n",
       "        (_depthwise_conv): Conv2dStaticSamePadding(\n",
       "          3072, 3072, kernel_size=(3, 3), stride=(1, 1), groups=3072, bias=False\n",
       "          (static_padding): ZeroPad2d((1, 1, 1, 1))\n",
       "        )\n",
       "        (_bn1): BatchNorm2d(3072, eps=0.001, momentum=0.010000000000000009, affine=True, track_running_stats=True)\n",
       "        (_se_reduce): Conv2dStaticSamePadding(\n",
       "          3072, 128, kernel_size=(1, 1), stride=(1, 1)\n",
       "          (static_padding): Identity()\n",
       "        )\n",
       "        (_se_expand): Conv2dStaticSamePadding(\n",
       "          128, 3072, kernel_size=(1, 1), stride=(1, 1)\n",
       "          (static_padding): Identity()\n",
       "        )\n",
       "        (_project_conv): Conv2dStaticSamePadding(\n",
       "          3072, 512, kernel_size=(1, 1), stride=(1, 1), bias=False\n",
       "          (static_padding): Identity()\n",
       "        )\n",
       "        (_bn2): BatchNorm2d(512, eps=0.001, momentum=0.010000000000000009, affine=True, track_running_stats=True)\n",
       "        (_swish): MemoryEfficientSwish()\n",
       "      )\n",
       "    )\n",
       "    (_conv_head): Conv2dStaticSamePadding(\n",
       "      512, 2048, kernel_size=(1, 1), stride=(1, 1), bias=False\n",
       "      (static_padding): Identity()\n",
       "    )\n",
       "    (_bn1): BatchNorm2d(2048, eps=0.001, momentum=0.010000000000000009, affine=True, track_running_stats=True)\n",
       "    (_avg_pooling): AdaptiveAvgPool2d(output_size=1)\n",
       "    (_dropout): Dropout(p=0.4, inplace=False)\n",
       "    (_swish): MemoryEfficientSwish()\n",
       "  )\n",
       "  (decoder): UnetPlusPlusDecoder(\n",
       "    (center): Identity()\n",
       "    (blocks): ModuleDict(\n",
       "      (x_0_0): DecoderBlock(\n",
       "        (conv1): Conv2dReLU(\n",
       "          (0): Conv2d(688, 256, kernel_size=(3, 3), stride=(1, 1), padding=(1, 1), bias=False)\n",
       "          (1): BatchNorm2d(256, eps=1e-05, momentum=0.1, affine=True, track_running_stats=True)\n",
       "          (2): ReLU(inplace=True)\n",
       "        )\n",
       "        (attention1): Attention(\n",
       "          (attention): Identity()\n",
       "        )\n",
       "        (conv2): Conv2dReLU(\n",
       "          (0): Conv2d(256, 256, kernel_size=(3, 3), stride=(1, 1), padding=(1, 1), bias=False)\n",
       "          (1): BatchNorm2d(256, eps=1e-05, momentum=0.1, affine=True, track_running_stats=True)\n",
       "          (2): ReLU(inplace=True)\n",
       "        )\n",
       "        (attention2): Attention(\n",
       "          (attention): Identity()\n",
       "        )\n",
       "      )\n",
       "      (x_0_1): DecoderBlock(\n",
       "        (conv1): Conv2dReLU(\n",
       "          (0): Conv2d(384, 128, kernel_size=(3, 3), stride=(1, 1), padding=(1, 1), bias=False)\n",
       "          (1): BatchNorm2d(128, eps=1e-05, momentum=0.1, affine=True, track_running_stats=True)\n",
       "          (2): ReLU(inplace=True)\n",
       "        )\n",
       "        (attention1): Attention(\n",
       "          (attention): Identity()\n",
       "        )\n",
       "        (conv2): Conv2dReLU(\n",
       "          (0): Conv2d(128, 128, kernel_size=(3, 3), stride=(1, 1), padding=(1, 1), bias=False)\n",
       "          (1): BatchNorm2d(128, eps=1e-05, momentum=0.1, affine=True, track_running_stats=True)\n",
       "          (2): ReLU(inplace=True)\n",
       "        )\n",
       "        (attention2): Attention(\n",
       "          (attention): Identity()\n",
       "        )\n",
       "      )\n",
       "      (x_1_1): DecoderBlock(\n",
       "        (conv1): Conv2dReLU(\n",
       "          (0): Conv2d(240, 64, kernel_size=(3, 3), stride=(1, 1), padding=(1, 1), bias=False)\n",
       "          (1): BatchNorm2d(64, eps=1e-05, momentum=0.1, affine=True, track_running_stats=True)\n",
       "          (2): ReLU(inplace=True)\n",
       "        )\n",
       "        (attention1): Attention(\n",
       "          (attention): Identity()\n",
       "        )\n",
       "        (conv2): Conv2dReLU(\n",
       "          (0): Conv2d(64, 64, kernel_size=(3, 3), stride=(1, 1), padding=(1, 1), bias=False)\n",
       "          (1): BatchNorm2d(64, eps=1e-05, momentum=0.1, affine=True, track_running_stats=True)\n",
       "          (2): ReLU(inplace=True)\n",
       "        )\n",
       "        (attention2): Attention(\n",
       "          (attention): Identity()\n",
       "        )\n",
       "      )\n",
       "      (x_0_2): DecoderBlock(\n",
       "        (conv1): Conv2dReLU(\n",
       "          (0): Conv2d(248, 64, kernel_size=(3, 3), stride=(1, 1), padding=(1, 1), bias=False)\n",
       "          (1): BatchNorm2d(64, eps=1e-05, momentum=0.1, affine=True, track_running_stats=True)\n",
       "          (2): ReLU(inplace=True)\n",
       "        )\n",
       "        (attention1): Attention(\n",
       "          (attention): Identity()\n",
       "        )\n",
       "        (conv2): Conv2dReLU(\n",
       "          (0): Conv2d(64, 64, kernel_size=(3, 3), stride=(1, 1), padding=(1, 1), bias=False)\n",
       "          (1): BatchNorm2d(64, eps=1e-05, momentum=0.1, affine=True, track_running_stats=True)\n",
       "          (2): ReLU(inplace=True)\n",
       "        )\n",
       "        (attention2): Attention(\n",
       "          (attention): Identity()\n",
       "        )\n",
       "      )\n",
       "      (x_1_2): DecoderBlock(\n",
       "        (conv1): Conv2dReLU(\n",
       "          (0): Conv2d(144, 40, kernel_size=(3, 3), stride=(1, 1), padding=(1, 1), bias=False)\n",
       "          (1): BatchNorm2d(40, eps=1e-05, momentum=0.1, affine=True, track_running_stats=True)\n",
       "          (2): ReLU(inplace=True)\n",
       "        )\n",
       "        (attention1): Attention(\n",
       "          (attention): Identity()\n",
       "        )\n",
       "        (conv2): Conv2dReLU(\n",
       "          (0): Conv2d(40, 40, kernel_size=(3, 3), stride=(1, 1), padding=(1, 1), bias=False)\n",
       "          (1): BatchNorm2d(40, eps=1e-05, momentum=0.1, affine=True, track_running_stats=True)\n",
       "          (2): ReLU(inplace=True)\n",
       "        )\n",
       "        (attention2): Attention(\n",
       "          (attention): Identity()\n",
       "        )\n",
       "      )\n",
       "      (x_2_2): DecoderBlock(\n",
       "        (conv1): Conv2dReLU(\n",
       "          (0): Conv2d(104, 40, kernel_size=(3, 3), stride=(1, 1), padding=(1, 1), bias=False)\n",
       "          (1): BatchNorm2d(40, eps=1e-05, momentum=0.1, affine=True, track_running_stats=True)\n",
       "          (2): ReLU(inplace=True)\n",
       "        )\n",
       "        (attention1): Attention(\n",
       "          (attention): Identity()\n",
       "        )\n",
       "        (conv2): Conv2dReLU(\n",
       "          (0): Conv2d(40, 40, kernel_size=(3, 3), stride=(1, 1), padding=(1, 1), bias=False)\n",
       "          (1): BatchNorm2d(40, eps=1e-05, momentum=0.1, affine=True, track_running_stats=True)\n",
       "          (2): ReLU(inplace=True)\n",
       "        )\n",
       "        (attention2): Attention(\n",
       "          (attention): Identity()\n",
       "        )\n",
       "      )\n",
       "      (x_0_3): DecoderBlock(\n",
       "        (conv1): Conv2dReLU(\n",
       "          (0): Conv2d(256, 32, kernel_size=(3, 3), stride=(1, 1), padding=(1, 1), bias=False)\n",
       "          (1): BatchNorm2d(32, eps=1e-05, momentum=0.1, affine=True, track_running_stats=True)\n",
       "          (2): ReLU(inplace=True)\n",
       "        )\n",
       "        (attention1): Attention(\n",
       "          (attention): Identity()\n",
       "        )\n",
       "        (conv2): Conv2dReLU(\n",
       "          (0): Conv2d(32, 32, kernel_size=(3, 3), stride=(1, 1), padding=(1, 1), bias=False)\n",
       "          (1): BatchNorm2d(32, eps=1e-05, momentum=0.1, affine=True, track_running_stats=True)\n",
       "          (2): ReLU(inplace=True)\n",
       "        )\n",
       "        (attention2): Attention(\n",
       "          (attention): Identity()\n",
       "        )\n",
       "      )\n",
       "      (x_1_3): DecoderBlock(\n",
       "        (conv1): Conv2dReLU(\n",
       "          (0): Conv2d(184, 48, kernel_size=(3, 3), stride=(1, 1), padding=(1, 1), bias=False)\n",
       "          (1): BatchNorm2d(48, eps=1e-05, momentum=0.1, affine=True, track_running_stats=True)\n",
       "          (2): ReLU(inplace=True)\n",
       "        )\n",
       "        (attention1): Attention(\n",
       "          (attention): Identity()\n",
       "        )\n",
       "        (conv2): Conv2dReLU(\n",
       "          (0): Conv2d(48, 48, kernel_size=(3, 3), stride=(1, 1), padding=(1, 1), bias=False)\n",
       "          (1): BatchNorm2d(48, eps=1e-05, momentum=0.1, affine=True, track_running_stats=True)\n",
       "          (2): ReLU(inplace=True)\n",
       "        )\n",
       "        (attention2): Attention(\n",
       "          (attention): Identity()\n",
       "        )\n",
       "      )\n",
       "      (x_2_3): DecoderBlock(\n",
       "        (conv1): Conv2dReLU(\n",
       "          (0): Conv2d(136, 48, kernel_size=(3, 3), stride=(1, 1), padding=(1, 1), bias=False)\n",
       "          (1): BatchNorm2d(48, eps=1e-05, momentum=0.1, affine=True, track_running_stats=True)\n",
       "          (2): ReLU(inplace=True)\n",
       "        )\n",
       "        (attention1): Attention(\n",
       "          (attention): Identity()\n",
       "        )\n",
       "        (conv2): Conv2dReLU(\n",
       "          (0): Conv2d(48, 48, kernel_size=(3, 3), stride=(1, 1), padding=(1, 1), bias=False)\n",
       "          (1): BatchNorm2d(48, eps=1e-05, momentum=0.1, affine=True, track_running_stats=True)\n",
       "          (2): ReLU(inplace=True)\n",
       "        )\n",
       "        (attention2): Attention(\n",
       "          (attention): Identity()\n",
       "        )\n",
       "      )\n",
       "      (x_3_3): DecoderBlock(\n",
       "        (conv1): Conv2dReLU(\n",
       "          (0): Conv2d(88, 48, kernel_size=(3, 3), stride=(1, 1), padding=(1, 1), bias=False)\n",
       "          (1): BatchNorm2d(48, eps=1e-05, momentum=0.1, affine=True, track_running_stats=True)\n",
       "          (2): ReLU(inplace=True)\n",
       "        )\n",
       "        (attention1): Attention(\n",
       "          (attention): Identity()\n",
       "        )\n",
       "        (conv2): Conv2dReLU(\n",
       "          (0): Conv2d(48, 48, kernel_size=(3, 3), stride=(1, 1), padding=(1, 1), bias=False)\n",
       "          (1): BatchNorm2d(48, eps=1e-05, momentum=0.1, affine=True, track_running_stats=True)\n",
       "          (2): ReLU(inplace=True)\n",
       "        )\n",
       "        (attention2): Attention(\n",
       "          (attention): Identity()\n",
       "        )\n",
       "      )\n",
       "      (x_0_4): DecoderBlock(\n",
       "        (conv1): Conv2dReLU(\n",
       "          (0): Conv2d(32, 16, kernel_size=(3, 3), stride=(1, 1), padding=(1, 1), bias=False)\n",
       "          (1): BatchNorm2d(16, eps=1e-05, momentum=0.1, affine=True, track_running_stats=True)\n",
       "          (2): ReLU(inplace=True)\n",
       "        )\n",
       "        (attention1): Attention(\n",
       "          (attention): Identity()\n",
       "        )\n",
       "        (conv2): Conv2dReLU(\n",
       "          (0): Conv2d(16, 16, kernel_size=(3, 3), stride=(1, 1), padding=(1, 1), bias=False)\n",
       "          (1): BatchNorm2d(16, eps=1e-05, momentum=0.1, affine=True, track_running_stats=True)\n",
       "          (2): ReLU(inplace=True)\n",
       "        )\n",
       "        (attention2): Attention(\n",
       "          (attention): Identity()\n",
       "        )\n",
       "      )\n",
       "    )\n",
       "  )\n",
       "  (segmentation_head): SegmentationHead(\n",
       "    (0): Conv2d(16, 3, kernel_size=(3, 3), stride=(1, 1), padding=(1, 1))\n",
       "    (1): Identity()\n",
       "    (2): Activation(\n",
       "      (activation): Identity()\n",
       "    )\n",
       "  )\n",
       ")"
      ]
     },
     "execution_count": 19,
     "metadata": {},
     "output_type": "execute_result"
    }
   ],
   "source": [
    "model.to(device)"
   ]
  },
  {
   "cell_type": "markdown",
   "id": "c8fb2386",
   "metadata": {
    "papermill": {
     "duration": 0.012256,
     "end_time": "2024-11-25T07:18:31.896255",
     "exception": false,
     "start_time": "2024-11-25T07:18:31.883999",
     "status": "completed"
    },
    "tags": []
   },
   "source": [
    "# Training"
   ]
  },
  {
   "cell_type": "code",
   "execution_count": 20,
   "id": "0ca08a3f",
   "metadata": {
    "execution": {
     "iopub.execute_input": "2024-11-25T07:18:31.921040Z",
     "iopub.status.busy": "2024-11-25T07:18:31.920769Z",
     "iopub.status.idle": "2024-11-25T07:18:32.479597Z",
     "shell.execute_reply": "2024-11-25T07:18:32.478776Z"
    },
    "papermill": {
     "duration": 0.573175,
     "end_time": "2024-11-25T07:18:32.481326",
     "exception": false,
     "start_time": "2024-11-25T07:18:31.908151",
     "status": "completed"
    },
    "tags": []
   },
   "outputs": [
    {
     "name": "stderr",
     "output_type": "stream",
     "text": [
      "\u001b[34m\u001b[1mwandb\u001b[0m: Using wandb-core as the SDK backend. Please refer to https://wandb.me/wandb-core for more information.\n",
      "\u001b[34m\u001b[1mwandb\u001b[0m: W&B API key is configured. Use \u001b[1m`wandb login --relogin`\u001b[0m to force relogin\n",
      "\u001b[34m\u001b[1mwandb\u001b[0m: \u001b[33mWARNING\u001b[0m If you're specifying your api key in code, ensure this code is not shared publicly.\n",
      "\u001b[34m\u001b[1mwandb\u001b[0m: \u001b[33mWARNING\u001b[0m Consider setting the WANDB_API_KEY environment variable, or running `wandb login` from the command line.\n",
      "\u001b[34m\u001b[1mwandb\u001b[0m: Appending key for api.wandb.ai to your netrc file: /root/.netrc\n"
     ]
    },
    {
     "data": {
      "text/plain": [
       "True"
      ]
     },
     "execution_count": 20,
     "metadata": {},
     "output_type": "execute_result"
    }
   ],
   "source": [
    "wandb.login(key=\"6ffb72fee22c0b5cc04049595683cc7bb0531a4d\")"
   ]
  },
  {
   "cell_type": "code",
   "execution_count": 21,
   "id": "fc93f206",
   "metadata": {
    "execution": {
     "iopub.execute_input": "2024-11-25T07:18:32.507202Z",
     "iopub.status.busy": "2024-11-25T07:18:32.506616Z",
     "iopub.status.idle": "2024-11-25T07:18:32.510948Z",
     "shell.execute_reply": "2024-11-25T07:18:32.509773Z"
    },
    "papermill": {
     "duration": 0.018573,
     "end_time": "2024-11-25T07:18:32.512470",
     "exception": false,
     "start_time": "2024-11-25T07:18:32.493897",
     "status": "completed"
    },
    "tags": []
   },
   "outputs": [],
   "source": [
    "os.makedirs('/kaggle/working/Model', exist_ok=True)"
   ]
  },
  {
   "cell_type": "code",
   "execution_count": 22,
   "id": "0165f33c",
   "metadata": {
    "execution": {
     "iopub.execute_input": "2024-11-25T07:18:32.537249Z",
     "iopub.status.busy": "2024-11-25T07:18:32.536564Z",
     "iopub.status.idle": "2024-11-25T07:18:32.540476Z",
     "shell.execute_reply": "2024-11-25T07:18:32.539682Z"
    },
    "papermill": {
     "duration": 0.017835,
     "end_time": "2024-11-25T07:18:32.542068",
     "exception": false,
     "start_time": "2024-11-25T07:18:32.524233",
     "status": "completed"
    },
    "tags": []
   },
   "outputs": [],
   "source": [
    "PROJECT = \"Segmentation\"\n",
    "RESUME = \"allow\"\n",
    "NUM_EPOCHS = 30\n",
    "LEARNING_RATE = 0.001\n",
    "CHECKPOINT_PATH = '/kaggle/working/Model/best_check_point (1).pth'"
   ]
  },
  {
   "cell_type": "code",
   "execution_count": 23,
   "id": "f1f96a67",
   "metadata": {
    "execution": {
     "iopub.execute_input": "2024-11-25T07:18:32.566382Z",
     "iopub.status.busy": "2024-11-25T07:18:32.566140Z",
     "iopub.status.idle": "2024-11-25T07:18:32.572437Z",
     "shell.execute_reply": "2024-11-25T07:18:32.571760Z"
    },
    "papermill": {
     "duration": 0.020233,
     "end_time": "2024-11-25T07:18:32.573992",
     "exception": false,
     "start_time": "2024-11-25T07:18:32.553759",
     "status": "completed"
    },
    "tags": []
   },
   "outputs": [],
   "source": [
    "loss_fn = nn.CrossEntropyLoss()\n",
    "optimizer = optim.Adam(model.parameters(), lr= LEARNING_RATE)\n",
    "scheduler = optim.lr_scheduler.StepLR(optimizer, step_size= 20, gamma= 0.1)"
   ]
  },
  {
   "cell_type": "code",
   "execution_count": 24,
   "id": "c3b26b5e",
   "metadata": {
    "execution": {
     "iopub.execute_input": "2024-11-25T07:18:32.598866Z",
     "iopub.status.busy": "2024-11-25T07:18:32.598588Z",
     "iopub.status.idle": "2024-11-25T07:18:35.522291Z",
     "shell.execute_reply": "2024-11-25T07:18:35.521433Z"
    },
    "papermill": {
     "duration": 2.938173,
     "end_time": "2024-11-25T07:18:35.524097",
     "exception": false,
     "start_time": "2024-11-25T07:18:32.585924",
     "status": "completed"
    },
    "tags": []
   },
   "outputs": [
    {
     "name": "stderr",
     "output_type": "stream",
     "text": [
      "\u001b[34m\u001b[1mwandb\u001b[0m: Currently logged in as: \u001b[33mducngoquang275\u001b[0m (\u001b[33mducngoquang275-hanoi-university-of-science-and-technology\u001b[0m). Use \u001b[1m`wandb login --relogin`\u001b[0m to force relogin\n",
      "\u001b[34m\u001b[1mwandb\u001b[0m: Tracking run with wandb version 0.18.3\n",
      "\u001b[34m\u001b[1mwandb\u001b[0m: Run data is saved locally in \u001b[35m\u001b[1m/kaggle/working/wandb/run-20241125_071832-bzoz5yrr\u001b[0m\n",
      "\u001b[34m\u001b[1mwandb\u001b[0m: Run \u001b[1m`wandb offline`\u001b[0m to turn off syncing.\n",
      "\u001b[34m\u001b[1mwandb\u001b[0m: Syncing run \u001b[33mfresh-sea-12\u001b[0m\n",
      "\u001b[34m\u001b[1mwandb\u001b[0m: ⭐️ View project at \u001b[34m\u001b[4mhttps://wandb.ai/ducngoquang275-hanoi-university-of-science-and-technology/Segmentation\u001b[0m\n",
      "\u001b[34m\u001b[1mwandb\u001b[0m: 🚀 View run at \u001b[34m\u001b[4mhttps://wandb.ai/ducngoquang275-hanoi-university-of-science-and-technology/Segmentation/runs/bzoz5yrr\u001b[0m\n"
     ]
    },
    {
     "data": {
      "text/plain": [
       "[]"
      ]
     },
     "execution_count": 24,
     "metadata": {},
     "output_type": "execute_result"
    }
   ],
   "source": [
    "wandb.init(\n",
    "\n",
    "    project=PROJECT,\n",
    "\n",
    "    resume=RESUME,\n",
    "\n",
    "    config={\n",
    "\n",
    "        \"learning_rate\": LEARNING_RATE,\n",
    "\n",
    "        \"epochs\": NUM_EPOCHS,\n",
    "\n",
    "        \"batch_size\": 16\n",
    "\n",
    "    },\n",
    "\n",
    ")\n",
    "\n",
    "wandb.watch(model)"
   ]
  },
  {
   "cell_type": "code",
   "execution_count": 25,
   "id": "a1b1db7f",
   "metadata": {
    "execution": {
     "iopub.execute_input": "2024-11-25T07:18:35.554038Z",
     "iopub.status.busy": "2024-11-25T07:18:35.553229Z",
     "iopub.status.idle": "2024-11-25T07:18:35.749461Z",
     "shell.execute_reply": "2024-11-25T07:18:35.748587Z"
    },
    "papermill": {
     "duration": 0.212965,
     "end_time": "2024-11-25T07:18:35.751328",
     "exception": false,
     "start_time": "2024-11-25T07:18:35.538363",
     "status": "completed"
    },
    "tags": []
   },
   "outputs": [],
   "source": [
    "gc.collect()\n",
    "torch.cuda.empty_cache()"
   ]
  },
  {
   "cell_type": "code",
   "execution_count": 26,
   "id": "15479ddd",
   "metadata": {
    "execution": {
     "iopub.execute_input": "2024-11-25T07:18:35.781437Z",
     "iopub.status.busy": "2024-11-25T07:18:35.780779Z",
     "iopub.status.idle": "2024-11-25T08:04:22.629529Z",
     "shell.execute_reply": "2024-11-25T08:04:22.628419Z"
    },
    "papermill": {
     "duration": 2746.88206,
     "end_time": "2024-11-25T08:04:22.648506",
     "exception": false,
     "start_time": "2024-11-25T07:18:35.766446",
     "status": "completed"
    },
    "tags": []
   },
   "outputs": [
    {
     "name": "stdout",
     "output_type": "stream",
     "text": [
      "Epoch 1: Train Loss: 0.0342 | Validation Loss: 0.0067 | Time taken: 95.5505\n",
      "New best checkpoint saved!\n",
      "Epoch 2: Train Loss: 0.0060 | Validation Loss: 0.0034 | Time taken: 76.8233\n",
      "New best checkpoint saved!\n",
      "Epoch 3: Train Loss: 0.0037 | Validation Loss: 0.0031 | Time taken: 76.9253\n",
      "New best checkpoint saved!\n",
      "Epoch 4: Train Loss: 0.0028 | Validation Loss: 0.0023 | Time taken: 77.1243\n",
      "New best checkpoint saved!\n",
      "Epoch 5: Train Loss: 0.0023 | Validation Loss: 0.0026 | Time taken: 77.5968\n",
      "Epoch 6: Train Loss: 0.0021 | Validation Loss: 0.0040 | Time taken: 78.0280\n",
      "Epoch 7: Train Loss: 0.0020 | Validation Loss: 0.0025 | Time taken: 76.4014\n",
      "Epoch 8: Train Loss: 0.0019 | Validation Loss: 0.0023 | Time taken: 85.5942\n",
      "Epoch 9: Train Loss: 0.0014 | Validation Loss: 0.0028 | Time taken: 76.9108\n",
      "Epoch 10: Train Loss: 0.0012 | Validation Loss: 0.0025 | Time taken: 76.9996\n",
      "Epoch 11: Train Loss: 0.0011 | Validation Loss: 0.0023 | Time taken: 76.8033\n",
      "New best checkpoint saved!\n",
      "Epoch 12: Train Loss: 0.0011 | Validation Loss: 0.0029 | Time taken: 82.7279\n",
      "Epoch 13: Train Loss: 0.0008 | Validation Loss: 0.0024 | Time taken: 76.4800\n",
      "Epoch 14: Train Loss: 0.0009 | Validation Loss: 0.0022 | Time taken: 77.1081\n",
      "New best checkpoint saved!\n",
      "Epoch 15: Train Loss: 0.0005 | Validation Loss: 0.0022 | Time taken: 78.8369\n",
      "Epoch 16: Train Loss: 0.0006 | Validation Loss: 0.0024 | Time taken: 76.6938\n",
      "Epoch 17: Train Loss: 0.0005 | Validation Loss: 0.0025 | Time taken: 76.6855\n",
      "Epoch 18: Train Loss: 0.0005 | Validation Loss: 0.0021 | Time taken: 76.7399\n",
      "New best checkpoint saved!\n",
      "Epoch 19: Train Loss: 0.0006 | Validation Loss: 0.0029 | Time taken: 76.7031\n",
      "Epoch 20: Train Loss: 0.0005 | Validation Loss: 0.0024 | Time taken: 77.7253\n",
      "Epoch 21: Train Loss: 0.0004 | Validation Loss: 0.0024 | Time taken: 80.3847\n",
      "Epoch 22: Train Loss: 0.0004 | Validation Loss: 0.0027 | Time taken: 81.5548\n",
      "Epoch 23: Train Loss: 0.0005 | Validation Loss: 0.0023 | Time taken: 79.7347\n",
      "Epoch 24: Train Loss: 0.0004 | Validation Loss: 0.0028 | Time taken: 77.7232\n",
      "Epoch 25: Train Loss: 0.0004 | Validation Loss: 0.0026 | Time taken: 81.1355\n",
      "Epoch 26: Train Loss: 0.0005 | Validation Loss: 0.0022 | Time taken: 80.6156\n",
      "Epoch 27: Train Loss: 0.0003 | Validation Loss: 0.0024 | Time taken: 78.5482\n",
      "Epoch 28: Train Loss: 0.0003 | Validation Loss: 0.0026 | Time taken: 77.3718\n",
      "Epoch 29: Train Loss: 0.0003 | Validation Loss: 0.0027 | Time taken: 76.8624\n",
      "Epoch 30: Train Loss: 0.0003 | Validation Loss: 0.0024 | Time taken: 77.1092\n"
     ]
    }
   ],
   "source": [
    "best_val_loss = float('inf') \n",
    "\n",
    "for epoch in range(1, NUM_EPOCHS + 1):\n",
    "    start_time = time.time()\n",
    "\n",
    "\n",
    "    model.train()\n",
    "    train_loss = 0\n",
    "    train_accuracy = 0\n",
    "\n",
    "    # Training loop\n",
    "    for images, masks in train_loader:\n",
    "        images = images.to(device).float()\n",
    "        masks = masks.to(device=device, dtype=torch.long)\n",
    "\n",
    "        optimizer.zero_grad()\n",
    "        output = model(images)\n",
    "        loss = loss_fn(output, masks)\n",
    "        loss.backward()\n",
    "        optimizer.step()\n",
    "\n",
    "        # Update metrics\n",
    "        train_loss += loss.item()\n",
    "\n",
    "\n",
    "    train_loss /= len(train_loader.dataset)\n",
    "    time_taken = time.time() - start_time\n",
    "\n",
    "    # Validation loop\n",
    "    model.eval()  # Set the model to evaluation mode\n",
    "    val_loss = 0\n",
    "\n",
    "\n",
    "    with torch.no_grad():\n",
    "        for images, masks in val_loader:\n",
    "            images = images.to(device).float()\n",
    "            masks = masks.to(device=device, dtype=torch.long)\n",
    "            output = model(images)\n",
    "            loss = loss_fn(output, masks)\n",
    "\n",
    "            # Update metrics\n",
    "            val_loss += loss.item()\n",
    "\n",
    "    val_loss /= len(val_loader.dataset)\n",
    "\n",
    "\n",
    "    # Log metrics\n",
    "    print(\n",
    "        f\"Epoch {epoch}: \"\n",
    "        f\"Train Loss: {train_loss:.4f} | \"\n",
    "        f\"Validation Loss: {val_loss:.4f} | \"\n",
    "        f\"Time taken: {time_taken:.4f}\"\n",
    "    )\n",
    "\n",
    "    # Save the best model\n",
    "    if val_loss < best_val_loss:\n",
    "        best_val_loss = val_loss\n",
    "        torch.save(model.state_dict(), CHECKPOINT_PATH)\n",
    "        print(\"New best checkpoint saved!\")\n",
    "\n",
    "    wandb.log({\n",
    "        \"epoch\": epoch,\n",
    "        \"train_loss\": train_loss,\n",
    "        \"val_loss\": val_loss,\n",
    "    })"
   ]
  },
  {
   "cell_type": "code",
   "execution_count": 27,
   "id": "34176898",
   "metadata": {
    "execution": {
     "iopub.execute_input": "2024-11-25T08:04:22.683846Z",
     "iopub.status.busy": "2024-11-25T08:04:22.683511Z",
     "iopub.status.idle": "2024-11-25T08:04:24.433125Z",
     "shell.execute_reply": "2024-11-25T08:04:24.432419Z"
    },
    "papermill": {
     "duration": 1.770298,
     "end_time": "2024-11-25T08:04:24.434823",
     "exception": false,
     "start_time": "2024-11-25T08:04:22.664525",
     "status": "completed"
    },
    "tags": []
   },
   "outputs": [
    {
     "name": "stderr",
     "output_type": "stream",
     "text": [
      "\u001b[34m\u001b[1mwandb\u001b[0m:                                                                                \n",
      "\u001b[34m\u001b[1mwandb\u001b[0m: \n",
      "\u001b[34m\u001b[1mwandb\u001b[0m: Run history:\n",
      "\u001b[34m\u001b[1mwandb\u001b[0m:      epoch ▁▁▁▂▂▂▂▃▃▃▃▄▄▄▄▅▅▅▅▆▆▆▆▇▇▇▇███\n",
      "\u001b[34m\u001b[1mwandb\u001b[0m: train_loss █▂▂▂▁▁▁▁▁▁▁▁▁▁▁▁▁▁▁▁▁▁▁▁▁▁▁▁▁▁\n",
      "\u001b[34m\u001b[1mwandb\u001b[0m:   val_loss █▃▂▁▂▄▂▁▂▂▁▂▁▁▁▁▂▁▂▁▁▂▁▂▂▁▁▂▂▁\n",
      "\u001b[34m\u001b[1mwandb\u001b[0m: \n",
      "\u001b[34m\u001b[1mwandb\u001b[0m: Run summary:\n",
      "\u001b[34m\u001b[1mwandb\u001b[0m:      epoch 30\n",
      "\u001b[34m\u001b[1mwandb\u001b[0m: train_loss 0.00034\n",
      "\u001b[34m\u001b[1mwandb\u001b[0m:   val_loss 0.00243\n",
      "\u001b[34m\u001b[1mwandb\u001b[0m: \n",
      "\u001b[34m\u001b[1mwandb\u001b[0m: 🚀 View run \u001b[33mfresh-sea-12\u001b[0m at: \u001b[34m\u001b[4mhttps://wandb.ai/ducngoquang275-hanoi-university-of-science-and-technology/Segmentation/runs/bzoz5yrr\u001b[0m\n",
      "\u001b[34m\u001b[1mwandb\u001b[0m: ⭐️ View project at: \u001b[34m\u001b[4mhttps://wandb.ai/ducngoquang275-hanoi-university-of-science-and-technology/Segmentation\u001b[0m\n",
      "\u001b[34m\u001b[1mwandb\u001b[0m: Synced 5 W&B file(s), 0 media file(s), 0 artifact file(s) and 0 other file(s)\n",
      "\u001b[34m\u001b[1mwandb\u001b[0m: Find logs at: \u001b[35m\u001b[1m./wandb/run-20241125_071832-bzoz5yrr/logs\u001b[0m\n"
     ]
    }
   ],
   "source": [
    "wandb.finish()"
   ]
  }
 ],
 "metadata": {
  "kaggle": {
   "accelerator": "nvidiaTeslaT4",
   "dataSources": [
    {
     "databundleVersionId": 2715462,
     "sourceId": 30892,
     "sourceType": "competition"
    }
   ],
   "dockerImageVersionId": 30786,
   "isGpuEnabled": true,
   "isInternetEnabled": true,
   "language": "python",
   "sourceType": "notebook"
  },
  "kernelspec": {
   "display_name": "Python 3",
   "language": "python",
   "name": "python3"
  },
  "language_info": {
   "codemirror_mode": {
    "name": "ipython",
    "version": 3
   },
   "file_extension": ".py",
   "mimetype": "text/x-python",
   "name": "python",
   "nbconvert_exporter": "python",
   "pygments_lexer": "ipython3",
   "version": "3.10.14"
  },
  "papermill": {
   "default_parameters": {},
   "duration": 2785.647408,
   "end_time": "2024-11-25T08:04:27.296327",
   "environment_variables": {},
   "exception": null,
   "input_path": "__notebook__.ipynb",
   "output_path": "__notebook__.ipynb",
   "parameters": {},
   "start_time": "2024-11-25T07:18:01.648919",
   "version": "2.6.0"
  }
 },
 "nbformat": 4,
 "nbformat_minor": 5
}
